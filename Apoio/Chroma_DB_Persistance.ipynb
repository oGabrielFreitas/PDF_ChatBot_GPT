{
  "nbformat": 4,
  "nbformat_minor": 0,
  "metadata": {
    "colab": {
      "provenance": []
    },
    "kernelspec": {
      "name": "python3",
      "display_name": "Python 3"
    },
    "language_info": {
      "name": "python"
    }
  },
  "cells": [
    {
      "cell_type": "code",
      "execution_count": null,
      "metadata": {
        "id": "Ui1Wl2awe6G-"
      },
      "outputs": [],
      "source": [
        "!pip install langchain\n",
        "!pip install pypdf2\n",
        "!pip install openai\n",
        "!pip install chromadb\n",
        "!pip install tiktoken"
      ]
    },
    {
      "cell_type": "code",
      "source": [
        "import PyPDF2\n",
        "import os\n",
        "from langchain.embeddings.openai import OpenAIEmbeddings\n",
        "from langchain.vectorstores import Chroma\n",
        "from langchain.chains import VectorDBQAWithSourcesChain\n",
        "from langchain.llms import OpenAI"
      ],
      "metadata": {
        "id": "qFuFxyqpgQDZ"
      },
      "execution_count": null,
      "outputs": []
    },
    {
      "cell_type": "markdown",
      "source": [
        "Set OpenAI Key"
      ],
      "metadata": {
        "id": "PuP1bo73rQMO"
      }
    },
    {
      "cell_type": "code",
      "source": [
        "os.environ[\"OPENAI_API_KEY\"] = \"your api key\""
      ],
      "metadata": {
        "id": "5D5W_BeBZf5X"
      },
      "execution_count": null,
      "outputs": []
    },
    {
      "cell_type": "markdown",
      "source": [
        "Load files from a directory"
      ],
      "metadata": {
        "id": "2qbd5ZDirS_4"
      }
    },
    {
      "cell_type": "code",
      "source": [
        "def read_and_textify(files):\n",
        "    text_list = []\n",
        "    sources_list = []\n",
        "    for file in files:\n",
        "        pdfReader = PyPDF2.PdfReader(file)\n",
        "        #print(\"Page Number:\", len(pdfReader.pages))\n",
        "        for i in range(len(pdfReader.pages)):\n",
        "          pageObj = pdfReader.pages[i]\n",
        "          text = pageObj.extract_text()\n",
        "          pageObj.clear()\n",
        "          text_list.append(text)\n",
        "          sources_list.append(file.name + \"_page_\"+str(i))\n",
        "    return [text_list,sources_list]"
      ],
      "metadata": {
        "id": "-N6lCMtXinC9"
      },
      "execution_count": null,
      "outputs": []
    },
    {
      "cell_type": "code",
      "source": [
        "directory = r\"/content/drive/MyDrive/ChatGPT/Shared/ChromaDB/Data/\"\n",
        "files = os.listdir(directory)\n",
        "files = [open(os.path.join(directory,x),\"rb\") for x in files if x.endswith(\".pdf\")]\n",
        "print(files)"
      ],
      "metadata": {
        "id": "fulYnj9nZr3n",
        "colab": {
          "base_uri": "https://localhost:8080/"
        },
        "outputId": "b5a8aa32-26af-4fd0-8846-abba2516b354"
      },
      "execution_count": null,
      "outputs": [
        {
          "output_type": "stream",
          "name": "stdout",
          "text": [
            "[<_io.BufferedReader name='/content/drive/MyDrive/ChatGPT/Shared/ChromaDB/Data/Australia - Wikipedia.pdf'>]\n"
          ]
        }
      ]
    },
    {
      "cell_type": "code",
      "source": [
        "textify_output = read_and_textify(files)"
      ],
      "metadata": {
        "id": "l3E_qZ7AUepR"
      },
      "execution_count": null,
      "outputs": []
    },
    {
      "cell_type": "code",
      "source": [
        "documents = textify_output[0]\n",
        "sources = textify_output[1]"
      ],
      "metadata": {
        "id": "33hZiOE9ktPr"
      },
      "execution_count": null,
      "outputs": []
    },
    {
      "cell_type": "code",
      "source": [
        "documents"
      ],
      "metadata": {
        "colab": {
          "base_uri": "https://localhost:8080/"
        },
        "id": "bcnqq7gHI4TF",
        "outputId": "22a00742-5436-45f2-dcde-949874b50344"
      },
      "execution_count": null,
      "outputs": [
        {
          "output_type": "execute_result",
          "data": {
            "text/plain": [
              "['6/3/23, 9:31 PM Australia - Wikipedia\\nhttps://en.wikipedia.org/wiki/Australia 1/50Commonwealth of Australia\\nFlag\\n Coat of arms\\nAnthem: \"Advance Australia Fair\"\\nCapital Canberra\\n35°18′29″S 149°07′28″E\\nLargest city Sydney (metropolitan)\\nMelbourne (urban)[a]\\nOfficial languages None at the federal level\\nNational language English[N 2]\\nReligion (2021)[6]43.9% Christianity\\n38.9% no religion\\n3.2% Islam\\n2.7% Hinduism\\n2.4% Buddhism\\n1.7% other\\n7.2% unanswered[5]Australia\\nAustralia , officially the Commonwealth of\\nAustralia , is a sovereign  country comprising the\\nmainland of the Australian contine nt, the islan d\\nof Tasmania , and numerous smaller islands .[16]\\nAustralia is the largest country by area in Oceania\\nand the world\\'s sixth-largest count ry. Australia is\\nthe oldest,[17] flattest,[18] and driest inha bited\\ncontinent,[19][20] with the least fertile soils .[21][22]\\nIt is a megadiverse country , and its size gives it a\\nwide variety of landscapes and climates, with\\ndeserts  in the centre, tropical rainforests  in the\\nnorth-east, tropical savannas  in the north, and\\nmountain ranges  in the south-east.\\nThe ancestors of Aboriginal Austra lians  began\\narriving from south-east Asia approximately\\n65,000 years  ago, during the last ice age.[23][24]\\nArriving by sea, they settled the continent and\\nhad formed approximately 250 disti nct language\\ngroups by the time of European settlement,\\nmaintaining some of the longest known\\ncontinuing artistic  and religious tradition s in the\\nworld.[23] Australia\\'s written history  commenced\\nwith the European maritime exploration of\\nAustralia . The Dutch navig ator Willem Janszoon\\nwas the first known European to reach Australia,\\nin 1606. In 1770, the British explorer James Cook\\nmapped and claimed the east coast of Australia\\nfor Great Britain , and the First Fleet  of British\\nships arrived at Sydney in 1788 to establish the\\npenal colony of New Sout h Wales . The European\\npopulation grew in subsequent decades, and by\\nthe end of the 1850s gold rush , most of the\\ncontinent had been explored by European settlers\\nand an additional five self-gover ning British\\ncolonies  established. Democratic parliaments\\nwere gradually established throu gh the 19th\\ncentury, culminating with a vote for the\\nfederation of the six colonies  and foundation of\\nthe Commonwealth of Australia on 1 January\\n1901.[25] This began a process of increasing\\nautonomy from the United Kingdom , highligh ted\\nby the Statute of Westminster Adoption Act 1942 ,\\nand culminating in the Australia Act 1986 .[25]Coordinates: 25°S 133°E\\n[N 1]\\n0:55\\nCommonwealth of Australia, including the\\nAustralian territorial claim in the Antarctic',\n",
              " '6/3/23, 9:31 PM Australia - Wikipedia\\nhttps://en.wikipedia.org/wiki/Australia 2/50Demonym(s) Australian\\nAussie (colloquial)[7][8]\\nGovernment Federal parliamentary\\nconstitutional monarchy\\n• Monarch Charles III\\n• Governor-GeneralDavid Hurley\\n• Prime Minister Anthony Albanese\\nLegislature Parliament\\n• Upper house Senate\\n• Lower house House of Representatives\\nIndependence from the United Kingdom\\n• Federation and\\nConstitution1 January 1901\\n• Statute of\\nWestminster\\nAdoption Act9 October 1942 (with effect\\nfrom 3 September 1939)\\n• Australia Act 3 March 1986\\nArea\\n• Total 7,692,024 km2\\n(2,969,907 sq mi) (6th)\\n• Water (%) 1.79 (2015)[9]\\nPopulation\\n• 2023 estimate\\n  26,510,600[10] (53rd)\\n• 2021 census 25,890,773[11]\\n• Density 3.4/km2 (8.8/sq mi)\\n(192nd)\\nGDP (PPP) 2023 estimate\\n• Total\\n  $1.718 trillion[12] (20th)\\n• Per capita\\n  $65,366[12] (22nd)\\nGDP (nominal) 2023 estimate\\n• Total\\n  $1.708 trillion[12] (13th)\\n• Per capita\\n  $64,964[12] (10th)\\nGini (2018)\\n  32.5[13]\\nmedium\\nHDI (2021)\\n  0.951[14]\\nvery high · 5th\\nCurrency Australian dollar ($) (AUD)\\nTime zone UTC+8; +9.5; +10\\n(Various[N 3])\\n• Summer (DST) UTC+8; +9.5; +10;\\n+10.5; +11 (Various[N 3])\\nDate format dd/mm/yyyy[15]\\nDriving side left\\nCalling code +61\\nISO 3166 code AUAustralia is a federal  parliamentary constitutional\\nmonarchy , comprising six states and ten\\nterritories . Australia\\'s population of nearly 27\\nmillion[10] is highly urba nised and heavily\\nconcentrated on the eastern seaboard.[26]\\nCanberra  is the nation\\'s capital, while its most\\npopulous city and financial centre is Sydney .[27]\\nThe next four largest cities  are Melbourne ,\\nBrisbane , Perth , and Adelaide . It is ethnically\\ndiverse and multicultural , the product of large-\\nscale immigration , with almost half of the\\npopulation having one parent born overseas.[28]\\nAustralia\\'s abundant natural resour ces and well-\\ndeveloped international trade relations are\\ncrucial to the country\\'s economy, which generates\\nits incom e from various sources including\\nservices, mining exports , banking ,\\nmanufacturing , agricul ture and international\\neducation .[29][30][31] Australia ranks amongst the\\nhighest in the world  for quality of life, health,\\neducation, econom ic freedom, civil liberties and\\npolitical rights.[32]\\nAustralia has a highly developed  market economy\\nand one of the high est per capita incomes\\nglobally.[33][34] Aust ralia is a regional power, and\\nhas the world\\'s thirteenth-highest military\\nexpenditure .[35] It is a member of international\\ngroupings includin g the United Nations ; the G20 ;\\nthe OECD ; the World Trade Orga nization ; Asia-\\nPacific Economic Cooperation ; the Pacific Islands\\nForum ; the Pacific Community  the\\nCommonwealth of Nations ; and the\\ndefence/security organisations ANZUS , AUKUS ,\\nand the Five Eyes . It is a major non-NATO ally of\\nthe United States .[36]\\nThe name Australia  (pronounced / ə ˈstre ɪli ə/ in\\nAustralian English[37]) is derived from the Latin\\nTerra Australis  (\"southe rn land\") , a name used\\nfor a hypothetical continent in the Southern\\nHemisphere since ancient times.[38] Several\\nsixteenth century cartographers used the word\\nAustralia on maps, but not to iden tify modern\\nAustralia.[39] When Europeans began visiting and\\nmapping Australia  in the 17th century, the name\\nTerra Australis  was naturally applied to the new\\nterritories.[N 4]Etymology',\n",
              " '6/3/23, 9:31 PM Australia - Wikipedia\\nhttps://en.wikipedia.org/wiki/Australia 3/50Internet TLD .au\\nAboriginal rock art in the Kimberley\\nregion of Western AustraliaUntil the early 19th century, Australia was best\\nknown as New Holland , a name first applied by\\nthe Dutch explorer Abel Tasm an in 1644 (as Nieuw-Holland ) and subsequently anglicised. Terra\\nAustralis  still saw occasio nal usage, such as in scientific texts.[N 5] The name Australia  was\\npopularised by the explorer Matthew Flinders , who said it was \"more agreeable to the ear, and an\\nassimilation to the names of the other great portions of the Earth\".[45] The first time that Australia\\nappears to have been officially used was in April 1817, when Governor Lachlan Macquarie\\nacknowledged the receipt of Flinde rs\\' charts of Australia from Lord Bathurst .[46] In December\\n1817, Mac quarie recommended to the Colonial Office  that it be formally  adopted.[47] In 1824, the\\nAdmiralty  agreed that the continent should be known officially by that name.[48] The first official\\npublished use of the new name came with the publication in 1830 of The Australia Directory  by\\nthe Hydrographic Office .[49]\\nColloquial names for Australia includ e \"Oz\" and \"the Land Down Under\" (usually shortened to just\\n\"Down Under\"). Other  epithets  include \"the Great Southern Land\", \"the Luck y Countr y\", \"the\\nSunburnt Country \", and \"the Wide Brown Land\". The latter two both derive from Dorothea\\nMackellar \\'s 1908 poem \" My Country \".[50]\\nIndigenous Austra lians  compris e two groups: the Aboriginal\\npeoples  of the Australian mainland (and surrounding islands\\nincluding Tasmani a), and the Torres Strait Islanders , who are a\\ndistinct Melanesian  people.  Human habitation of the\\nAustralian continent is estimated to have begun 50,000 to\\n65,000 years ago,[24][51][52][53] with the migration of people by\\nland brid ges and short sea crossings from what is now\\nSoutheast Asia.[54] It is uncertain how many waves of\\nimmigration may have contributed to these ancestors of\\nmodern Aboriginal Australians.[55][56] The Madjedbebe  rock\\nshelter in Arnhem Land  is recog nised as the oldest site\\nshowing the presence of humans in Australia.[57] The oldest human remains found are the Lake\\nMungo remains , which have been dated to around 41,000 years ago.[58][59]\\nAboriginal Australian culture is one of the oldest continuous cultures on Earth.[60] At the time of\\nfirst European contact, Aboriginal Australians were complex hunter-gatherers  with diverse\\neconomies and societies and about 250 different language groups.[61][62] Recent archaeological\\nfinds suggest that a population of 750,000 could have been sustained.[63][64] Aboriginal\\nAustralians have an oral culture with spiritual values based on reverence for the land and a belief\\nin the Dreamtime .[65]\\nThe Torre s Strait Islander people first settled their islands around 4000  years ago.[66] Culturally\\nand lingu istically distinct from mainland Aboriginal peoples, they were seafarers and obtained\\ntheir livelihood from seasonal horticulture and the resources of their reefs and seas.[67]History\\nIndigenous peoples\\nEuropean exploration and colonisation']"
            ]
          },
          "metadata": {},
          "execution_count": 7
        }
      ]
    },
    {
      "cell_type": "code",
      "source": [
        "sources"
      ],
      "metadata": {
        "colab": {
          "base_uri": "https://localhost:8080/"
        },
        "id": "qqQRzeSkI_0q",
        "outputId": "4a2744db-2a0b-44d2-a8b4-9f505de0800e"
      },
      "execution_count": null,
      "outputs": [
        {
          "output_type": "execute_result",
          "data": {
            "text/plain": [
              "['/content/drive/MyDrive/ChatGPT/Shared/ChromaDB/Data/Australia - Wikipedia.pdf_page_0',\n",
              " '/content/drive/MyDrive/ChatGPT/Shared/ChromaDB/Data/Australia - Wikipedia.pdf_page_1',\n",
              " '/content/drive/MyDrive/ChatGPT/Shared/ChromaDB/Data/Australia - Wikipedia.pdf_page_2']"
            ]
          },
          "metadata": {},
          "execution_count": 8
        }
      ]
    },
    {
      "cell_type": "code",
      "source": [
        "persist_directory = '/content/drive/MyDrive/ChatGPT/Shared/ChromaDB/VectorStore/'\n",
        "#extract embeddings\n",
        "embeddings = OpenAIEmbeddings(openai_api_key = os.environ[\"OPENAI_API_KEY\"])"
      ],
      "metadata": {
        "id": "6wjDqno17mpU"
      },
      "execution_count": null,
      "outputs": []
    },
    {
      "cell_type": "code",
      "source": [
        "#vstore with metadata. Here we will store page numbers.\n",
        "vectordb = Chroma.from_texts(documents, embeddings, metadatas=[{\"source\": s} for s in sources], persist_directory=persist_directory)\n",
        "#deciding model\n",
        "model_name = \"gpt-3.5-turbo\"\n",
        "# model_name = \"gpt-4\""
      ],
      "metadata": {
        "id": "tYIqglQTk6eD"
      },
      "execution_count": null,
      "outputs": []
    },
    {
      "cell_type": "code",
      "source": [
        "vectordb.persist()\n",
        "vectordb = None"
      ],
      "metadata": {
        "id": "ac-IsW8W80do"
      },
      "execution_count": null,
      "outputs": []
    },
    {
      "cell_type": "code",
      "source": [
        "vectordb.get()"
      ],
      "metadata": {
        "id": "zGtl9ty486Ef",
        "colab": {
          "base_uri": "https://localhost:8080/",
          "height": 166
        },
        "outputId": "4ea73fb7-24f5-4b8f-a9a1-a4fd54094924"
      },
      "execution_count": null,
      "outputs": [
        {
          "output_type": "error",
          "ename": "AttributeError",
          "evalue": "ignored",
          "traceback": [
            "\u001b[0;31m---------------------------------------------------------------------------\u001b[0m",
            "\u001b[0;31mAttributeError\u001b[0m                            Traceback (most recent call last)",
            "\u001b[0;32m<ipython-input-12-ddbe398921b5>\u001b[0m in \u001b[0;36m<cell line: 1>\u001b[0;34m()\u001b[0m\n\u001b[0;32m----> 1\u001b[0;31m \u001b[0mvectordb\u001b[0m\u001b[0;34m.\u001b[0m\u001b[0mget\u001b[0m\u001b[0;34m(\u001b[0m\u001b[0;34m)\u001b[0m\u001b[0;34m\u001b[0m\u001b[0;34m\u001b[0m\u001b[0m\n\u001b[0m",
            "\u001b[0;31mAttributeError\u001b[0m: 'NoneType' object has no attribute 'get'"
          ]
        }
      ]
    },
    {
      "cell_type": "code",
      "source": [
        "# Now we can load the persisted database from disk, and use it as normal.\n",
        "vectordb = Chroma(persist_directory=persist_directory, embedding_function=embeddings)\n",
        "vectordb.get()"
      ],
      "metadata": {
        "id": "RI9t-VEe7hY9",
        "colab": {
          "base_uri": "https://localhost:8080/"
        },
        "outputId": "c46e3275-0cef-4199-b6b7-77065aa37ef0"
      },
      "execution_count": null,
      "outputs": [
        {
          "output_type": "execute_result",
          "data": {
            "text/plain": [
              "{'ids': ['10e2aa54-020d-11ee-a576-0242ac1c000c',\n",
              "  '10e2ac0c-020d-11ee-a576-0242ac1c000c',\n",
              "  '10e2acac-020d-11ee-a576-0242ac1c000c'],\n",
              " 'embeddings': None,\n",
              " 'documents': ['6/3/23, 9:31 PM Australia - Wikipedia\\nhttps://en.wikipedia.org/wiki/Australia 1/50Commonwealth of Australia\\nFlag\\n Coat of arms\\nAnthem: \"Advance Australia Fair\"\\nCapital Canberra\\n35°18′29″S 149°07′28″E\\nLargest city Sydney (metropolitan)\\nMelbourne (urban)[a]\\nOfficial languages None at the federal level\\nNational language English[N 2]\\nReligion (2021)[6]43.9% Christianity\\n38.9% no religion\\n3.2% Islam\\n2.7% Hinduism\\n2.4% Buddhism\\n1.7% other\\n7.2% unanswered[5]Australia\\nAustralia , officially the Commonwealth of\\nAustralia , is a sovereign  country comprising the\\nmainland of the Australian contine nt, the islan d\\nof Tasmania , and numerous smaller islands .[16]\\nAustralia is the largest country by area in Oceania\\nand the world\\'s sixth-largest count ry. Australia is\\nthe oldest,[17] flattest,[18] and driest inha bited\\ncontinent,[19][20] with the least fertile soils .[21][22]\\nIt is a megadiverse country , and its size gives it a\\nwide variety of landscapes and climates, with\\ndeserts  in the centre, tropical rainforests  in the\\nnorth-east, tropical savannas  in the north, and\\nmountain ranges  in the south-east.\\nThe ancestors of Aboriginal Austra lians  began\\narriving from south-east Asia approximately\\n65,000 years  ago, during the last ice age.[23][24]\\nArriving by sea, they settled the continent and\\nhad formed approximately 250 disti nct language\\ngroups by the time of European settlement,\\nmaintaining some of the longest known\\ncontinuing artistic  and religious tradition s in the\\nworld.[23] Australia\\'s written history  commenced\\nwith the European maritime exploration of\\nAustralia . The Dutch navig ator Willem Janszoon\\nwas the first known European to reach Australia,\\nin 1606. In 1770, the British explorer James Cook\\nmapped and claimed the east coast of Australia\\nfor Great Britain , and the First Fleet  of British\\nships arrived at Sydney in 1788 to establish the\\npenal colony of New Sout h Wales . The European\\npopulation grew in subsequent decades, and by\\nthe end of the 1850s gold rush , most of the\\ncontinent had been explored by European settlers\\nand an additional five self-gover ning British\\ncolonies  established. Democratic parliaments\\nwere gradually established throu gh the 19th\\ncentury, culminating with a vote for the\\nfederation of the six colonies  and foundation of\\nthe Commonwealth of Australia on 1 January\\n1901.[25] This began a process of increasing\\nautonomy from the United Kingdom , highligh ted\\nby the Statute of Westminster Adoption Act 1942 ,\\nand culminating in the Australia Act 1986 .[25]Coordinates: 25°S 133°E\\n[N 1]\\n0:55\\nCommonwealth of Australia, including the\\nAustralian territorial claim in the Antarctic',\n",
              "  '6/3/23, 9:31 PM Australia - Wikipedia\\nhttps://en.wikipedia.org/wiki/Australia 2/50Demonym(s) Australian\\nAussie (colloquial)[7][8]\\nGovernment Federal parliamentary\\nconstitutional monarchy\\n• Monarch Charles III\\n• Governor-GeneralDavid Hurley\\n• Prime Minister Anthony Albanese\\nLegislature Parliament\\n• Upper house Senate\\n• Lower house House of Representatives\\nIndependence from the United Kingdom\\n• Federation and\\nConstitution1 January 1901\\n• Statute of\\nWestminster\\nAdoption Act9 October 1942 (with effect\\nfrom 3 September 1939)\\n• Australia Act 3 March 1986\\nArea\\n• Total 7,692,024 km2\\n(2,969,907 sq mi) (6th)\\n• Water (%) 1.79 (2015)[9]\\nPopulation\\n• 2023 estimate\\n  26,510,600[10] (53rd)\\n• 2021 census 25,890,773[11]\\n• Density 3.4/km2 (8.8/sq mi)\\n(192nd)\\nGDP (PPP) 2023 estimate\\n• Total\\n  $1.718 trillion[12] (20th)\\n• Per capita\\n  $65,366[12] (22nd)\\nGDP (nominal) 2023 estimate\\n• Total\\n  $1.708 trillion[12] (13th)\\n• Per capita\\n  $64,964[12] (10th)\\nGini (2018)\\n  32.5[13]\\nmedium\\nHDI (2021)\\n  0.951[14]\\nvery high · 5th\\nCurrency Australian dollar ($) (AUD)\\nTime zone UTC+8; +9.5; +10\\n(Various[N 3])\\n• Summer (DST) UTC+8; +9.5; +10;\\n+10.5; +11 (Various[N 3])\\nDate format dd/mm/yyyy[15]\\nDriving side left\\nCalling code +61\\nISO 3166 code AUAustralia is a federal  parliamentary constitutional\\nmonarchy , comprising six states and ten\\nterritories . Australia\\'s population of nearly 27\\nmillion[10] is highly urba nised and heavily\\nconcentrated on the eastern seaboard.[26]\\nCanberra  is the nation\\'s capital, while its most\\npopulous city and financial centre is Sydney .[27]\\nThe next four largest cities  are Melbourne ,\\nBrisbane , Perth , and Adelaide . It is ethnically\\ndiverse and multicultural , the product of large-\\nscale immigration , with almost half of the\\npopulation having one parent born overseas.[28]\\nAustralia\\'s abundant natural resour ces and well-\\ndeveloped international trade relations are\\ncrucial to the country\\'s economy, which generates\\nits incom e from various sources including\\nservices, mining exports , banking ,\\nmanufacturing , agricul ture and international\\neducation .[29][30][31] Australia ranks amongst the\\nhighest in the world  for quality of life, health,\\neducation, econom ic freedom, civil liberties and\\npolitical rights.[32]\\nAustralia has a highly developed  market economy\\nand one of the high est per capita incomes\\nglobally.[33][34] Aust ralia is a regional power, and\\nhas the world\\'s thirteenth-highest military\\nexpenditure .[35] It is a member of international\\ngroupings includin g the United Nations ; the G20 ;\\nthe OECD ; the World Trade Orga nization ; Asia-\\nPacific Economic Cooperation ; the Pacific Islands\\nForum ; the Pacific Community  the\\nCommonwealth of Nations ; and the\\ndefence/security organisations ANZUS , AUKUS ,\\nand the Five Eyes . It is a major non-NATO ally of\\nthe United States .[36]\\nThe name Australia  (pronounced / ə ˈstre ɪli ə/ in\\nAustralian English[37]) is derived from the Latin\\nTerra Australis  (\"southe rn land\") , a name used\\nfor a hypothetical continent in the Southern\\nHemisphere since ancient times.[38] Several\\nsixteenth century cartographers used the word\\nAustralia on maps, but not to iden tify modern\\nAustralia.[39] When Europeans began visiting and\\nmapping Australia  in the 17th century, the name\\nTerra Australis  was naturally applied to the new\\nterritories.[N 4]Etymology',\n",
              "  '6/3/23, 9:31 PM Australia - Wikipedia\\nhttps://en.wikipedia.org/wiki/Australia 3/50Internet TLD .au\\nAboriginal rock art in the Kimberley\\nregion of Western AustraliaUntil the early 19th century, Australia was best\\nknown as New Holland , a name first applied by\\nthe Dutch explorer Abel Tasm an in 1644 (as Nieuw-Holland ) and subsequently anglicised. Terra\\nAustralis  still saw occasio nal usage, such as in scientific texts.[N 5] The name Australia  was\\npopularised by the explorer Matthew Flinders , who said it was \"more agreeable to the ear, and an\\nassimilation to the names of the other great portions of the Earth\".[45] The first time that Australia\\nappears to have been officially used was in April 1817, when Governor Lachlan Macquarie\\nacknowledged the receipt of Flinde rs\\' charts of Australia from Lord Bathurst .[46] In December\\n1817, Mac quarie recommended to the Colonial Office  that it be formally  adopted.[47] In 1824, the\\nAdmiralty  agreed that the continent should be known officially by that name.[48] The first official\\npublished use of the new name came with the publication in 1830 of The Australia Directory  by\\nthe Hydrographic Office .[49]\\nColloquial names for Australia includ e \"Oz\" and \"the Land Down Under\" (usually shortened to just\\n\"Down Under\"). Other  epithets  include \"the Great Southern Land\", \"the Luck y Countr y\", \"the\\nSunburnt Country \", and \"the Wide Brown Land\". The latter two both derive from Dorothea\\nMackellar \\'s 1908 poem \" My Country \".[50]\\nIndigenous Austra lians  compris e two groups: the Aboriginal\\npeoples  of the Australian mainland (and surrounding islands\\nincluding Tasmani a), and the Torres Strait Islanders , who are a\\ndistinct Melanesian  people.  Human habitation of the\\nAustralian continent is estimated to have begun 50,000 to\\n65,000 years ago,[24][51][52][53] with the migration of people by\\nland brid ges and short sea crossings from what is now\\nSoutheast Asia.[54] It is uncertain how many waves of\\nimmigration may have contributed to these ancestors of\\nmodern Aboriginal Australians.[55][56] The Madjedbebe  rock\\nshelter in Arnhem Land  is recog nised as the oldest site\\nshowing the presence of humans in Australia.[57] The oldest human remains found are the Lake\\nMungo remains , which have been dated to around 41,000 years ago.[58][59]\\nAboriginal Australian culture is one of the oldest continuous cultures on Earth.[60] At the time of\\nfirst European contact, Aboriginal Australians were complex hunter-gatherers  with diverse\\neconomies and societies and about 250 different language groups.[61][62] Recent archaeological\\nfinds suggest that a population of 750,000 could have been sustained.[63][64] Aboriginal\\nAustralians have an oral culture with spiritual values based on reverence for the land and a belief\\nin the Dreamtime .[65]\\nThe Torre s Strait Islander people first settled their islands around 4000  years ago.[66] Culturally\\nand lingu istically distinct from mainland Aboriginal peoples, they were seafarers and obtained\\ntheir livelihood from seasonal horticulture and the resources of their reefs and seas.[67]History\\nIndigenous peoples\\nEuropean exploration and colonisation'],\n",
              " 'metadatas': [{'source': '/content/drive/MyDrive/ChatGPT/Shared/ChromaDB/Data/Australia - Wikipedia.pdf_page_0'},\n",
              "  {'source': '/content/drive/MyDrive/ChatGPT/Shared/ChromaDB/Data/Australia - Wikipedia.pdf_page_1'},\n",
              "  {'source': '/content/drive/MyDrive/ChatGPT/Shared/ChromaDB/Data/Australia - Wikipedia.pdf_page_2'}]}"
            ]
          },
          "metadata": {},
          "execution_count": 13
        }
      ]
    },
    {
      "cell_type": "code",
      "source": [
        "qa = VectorDBQAWithSourcesChain.from_chain_type(llm=OpenAI(), k=1, chain_type=\"stuff\", vectorstore=vectordb)"
      ],
      "metadata": {
        "id": "u64xxLgeTVCS",
        "colab": {
          "base_uri": "https://localhost:8080/"
        },
        "outputId": "36c60ea2-0988-4c7e-aa8e-ed61dd42025d"
      },
      "execution_count": null,
      "outputs": [
        {
          "output_type": "stream",
          "name": "stderr",
          "text": [
            "/usr/local/lib/python3.10/dist-packages/langchain/chains/qa_with_sources/vector_db.py:60: UserWarning: `VectorDBQAWithSourcesChain` is deprecated - please use `from langchain.chains import RetrievalQAWithSourcesChain`\n",
            "  warnings.warn(\n"
          ]
        }
      ]
    },
    {
      "cell_type": "code",
      "source": [
        "qa({\"question\": \"How large is Australia?\"}, return_only_outputs=True)"
      ],
      "metadata": {
        "colab": {
          "base_uri": "https://localhost:8080/"
        },
        "id": "Vnq31dBNSnQv",
        "outputId": "c8d2f173-8e4f-4325-feba-2b94ce5268d1"
      },
      "execution_count": null,
      "outputs": [
        {
          "output_type": "execute_result",
          "data": {
            "text/plain": [
              "{'answer': \" Australia is the largest country by area in Oceania and the world's sixth-largest country. It has an area of 7,692,024 km2 (2,969,907 sq mi). \\n\",\n",
              " 'sources': ' Australia - Wikipedia, https://en.wikipedia.org/wiki/Australia'}"
            ]
          },
          "metadata": {},
          "execution_count": 15
        }
      ]
    },
    {
      "cell_type": "code",
      "source": [
        "query = \"How large is Australia?\"\n",
        "qa(query)"
      ],
      "metadata": {
        "colab": {
          "base_uri": "https://localhost:8080/"
        },
        "id": "tgPGNE8n7s3P",
        "outputId": "7d9619e3-5827-4c2f-fa4e-9eaee78cc8e2"
      },
      "execution_count": null,
      "outputs": [
        {
          "output_type": "execute_result",
          "data": {
            "text/plain": [
              "{'question': 'How large is Australia?',\n",
              " 'answer': \" Australia is the largest country by area in Oceania and the world's sixth-largest country. It has an area of 7,692,024 square kilometres (2,969,907 sq mi).\\n\",\n",
              " 'sources': 'Australia - Wikipedia, https://en.wikipedia.org/wiki/Australia'}"
            ]
          },
          "metadata": {},
          "execution_count": 16
        }
      ]
    },
    {
      "cell_type": "code",
      "source": [
        "query = \"How many language groups are there in Australia?\"\n",
        "qa(query)"
      ],
      "metadata": {
        "colab": {
          "base_uri": "https://localhost:8080/"
        },
        "id": "LcveR04bD3_S",
        "outputId": "3aa33cec-d8f7-4e11-e3a8-529c6ec72380"
      },
      "execution_count": null,
      "outputs": [
        {
          "output_type": "execute_result",
          "data": {
            "text/plain": [
              "{'question': 'How many language groups are there in Australia?',\n",
              " 'answer': ' There are over 250 language groups in Australia.\\n',\n",
              " 'sources': 'https://en.wikipedia.org/wiki/Australian_Aboriginal_languages'}"
            ]
          },
          "metadata": {},
          "execution_count": 17
        }
      ]
    },
    {
      "cell_type": "code",
      "source": [
        "query = \"Breifly describe about Indigenous people in Australia\"\n",
        "qa(query)"
      ],
      "metadata": {
        "colab": {
          "base_uri": "https://localhost:8080/"
        },
        "id": "zibTERu2EJkp",
        "outputId": "4ef4c0fd-1566-4e49-d0ca-3b508575eb6f"
      },
      "execution_count": null,
      "outputs": [
        {
          "output_type": "execute_result",
          "data": {
            "text/plain": [
              "{'question': 'Breifly describe about Indigenous people in Australia',\n",
              " 'answer': ' Indigenous Australians comprise two distinct groups: the Aboriginal peoples of the Australian mainland and Torres Strait Islander people. They have an oral culture with spiritual values based on reverence for the land and a belief in the Dreamtime. The oldest human remains found in Australia are the Lake Mungo remains, which have been dated to around 41,000 years ago.\\n',\n",
              " 'sources': '/content/drive/MyDrive/ChatGPT/Shared/ChromaDB/Data/Australia - Wikipedia.pdf_page_2'}"
            ]
          },
          "metadata": {},
          "execution_count": 19
        }
      ]
    }
  ]
}